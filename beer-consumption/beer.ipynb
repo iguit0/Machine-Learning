{
 "cells": [
  {
   "cell_type": "code",
   "execution_count": 1,
   "metadata": {},
   "outputs": [
    {
     "data": {
      "text/plain": [
       "Index(['Temperatura_Media_C', 'Temperatura_Minima_C', 'Temperatura_Maxima_C',\n",
       "       'Precipitacao_mm', 'Final_de_Semana', 'Consumo_de_cerveja_litros'],\n",
       "      dtype='object')"
      ]
     },
     "metadata": {},
     "output_type": "display_data"
    },
    {
     "data": {
      "text/html": [
       "<div>\n",
       "<style scoped>\n",
       "    .dataframe tbody tr th:only-of-type {\n",
       "        vertical-align: middle;\n",
       "    }\n",
       "\n",
       "    .dataframe tbody tr th {\n",
       "        vertical-align: top;\n",
       "    }\n",
       "\n",
       "    .dataframe thead th {\n",
       "        text-align: right;\n",
       "    }\n",
       "</style>\n",
       "<table border=\"1\" class=\"dataframe\">\n",
       "  <thead>\n",
       "    <tr style=\"text-align: right;\">\n",
       "      <th></th>\n",
       "      <th>Temperatura_Media_C</th>\n",
       "      <th>Temperatura_Minima_C</th>\n",
       "      <th>Temperatura_Maxima_C</th>\n",
       "      <th>Precipitacao_mm</th>\n",
       "      <th>Final_de_Semana</th>\n",
       "      <th>Consumo_de_cerveja_litros</th>\n",
       "    </tr>\n",
       "    <tr>\n",
       "      <th>Data</th>\n",
       "      <th></th>\n",
       "      <th></th>\n",
       "      <th></th>\n",
       "      <th></th>\n",
       "      <th></th>\n",
       "      <th></th>\n",
       "    </tr>\n",
       "  </thead>\n",
       "  <tbody>\n",
       "    <tr>\n",
       "      <th>2015-01-01</th>\n",
       "      <td>27.30</td>\n",
       "      <td>23.9</td>\n",
       "      <td>32.5</td>\n",
       "      <td>0.0</td>\n",
       "      <td>0</td>\n",
       "      <td>25.461</td>\n",
       "    </tr>\n",
       "    <tr>\n",
       "      <th>2015-01-02</th>\n",
       "      <td>27.02</td>\n",
       "      <td>24.5</td>\n",
       "      <td>33.5</td>\n",
       "      <td>0.0</td>\n",
       "      <td>0</td>\n",
       "      <td>28.972</td>\n",
       "    </tr>\n",
       "    <tr>\n",
       "      <th>2015-01-03</th>\n",
       "      <td>24.82</td>\n",
       "      <td>22.4</td>\n",
       "      <td>29.9</td>\n",
       "      <td>0.0</td>\n",
       "      <td>1</td>\n",
       "      <td>30.814</td>\n",
       "    </tr>\n",
       "    <tr>\n",
       "      <th>2015-01-04</th>\n",
       "      <td>23.98</td>\n",
       "      <td>21.5</td>\n",
       "      <td>28.6</td>\n",
       "      <td>1.2</td>\n",
       "      <td>1</td>\n",
       "      <td>29.799</td>\n",
       "    </tr>\n",
       "    <tr>\n",
       "      <th>2015-01-05</th>\n",
       "      <td>23.82</td>\n",
       "      <td>21.0</td>\n",
       "      <td>28.3</td>\n",
       "      <td>0.0</td>\n",
       "      <td>0</td>\n",
       "      <td>28.900</td>\n",
       "    </tr>\n",
       "  </tbody>\n",
       "</table>\n",
       "</div>"
      ],
      "text/plain": [
       "            Temperatura_Media_C  Temperatura_Minima_C  Temperatura_Maxima_C  \\\n",
       "Data                                                                          \n",
       "2015-01-01                27.30                  23.9                  32.5   \n",
       "2015-01-02                27.02                  24.5                  33.5   \n",
       "2015-01-03                24.82                  22.4                  29.9   \n",
       "2015-01-04                23.98                  21.5                  28.6   \n",
       "2015-01-05                23.82                  21.0                  28.3   \n",
       "\n",
       "            Precipitacao_mm  Final_de_Semana  Consumo_de_cerveja_litros  \n",
       "Data                                                                     \n",
       "2015-01-01              0.0                0                     25.461  \n",
       "2015-01-02              0.0                0                     28.972  \n",
       "2015-01-03              0.0                1                     30.814  \n",
       "2015-01-04              1.2                1                     29.799  \n",
       "2015-01-05              0.0                0                     28.900  "
      ]
     },
     "metadata": {},
     "output_type": "display_data"
    },
    {
     "data": {
      "text/html": [
       "<div>\n",
       "<style scoped>\n",
       "    .dataframe tbody tr th:only-of-type {\n",
       "        vertical-align: middle;\n",
       "    }\n",
       "\n",
       "    .dataframe tbody tr th {\n",
       "        vertical-align: top;\n",
       "    }\n",
       "\n",
       "    .dataframe thead th {\n",
       "        text-align: right;\n",
       "    }\n",
       "</style>\n",
       "<table border=\"1\" class=\"dataframe\">\n",
       "  <thead>\n",
       "    <tr style=\"text-align: right;\">\n",
       "      <th></th>\n",
       "      <th>Temperatura_Media_C</th>\n",
       "      <th>Temperatura_Minima_C</th>\n",
       "      <th>Temperatura_Maxima_C</th>\n",
       "      <th>Precipitacao_mm</th>\n",
       "      <th>Final_de_Semana</th>\n",
       "      <th>Consumo_de_cerveja_litros</th>\n",
       "    </tr>\n",
       "  </thead>\n",
       "  <tbody>\n",
       "    <tr>\n",
       "      <th>count</th>\n",
       "      <td>365.000000</td>\n",
       "      <td>365.000000</td>\n",
       "      <td>365.000000</td>\n",
       "      <td>365.000000</td>\n",
       "      <td>365.000000</td>\n",
       "      <td>365.000000</td>\n",
       "    </tr>\n",
       "    <tr>\n",
       "      <th>mean</th>\n",
       "      <td>21.226356</td>\n",
       "      <td>17.461370</td>\n",
       "      <td>26.611507</td>\n",
       "      <td>5.196712</td>\n",
       "      <td>0.284932</td>\n",
       "      <td>25.401367</td>\n",
       "    </tr>\n",
       "    <tr>\n",
       "      <th>std</th>\n",
       "      <td>3.180108</td>\n",
       "      <td>2.826185</td>\n",
       "      <td>4.317366</td>\n",
       "      <td>12.417844</td>\n",
       "      <td>0.452001</td>\n",
       "      <td>4.399143</td>\n",
       "    </tr>\n",
       "    <tr>\n",
       "      <th>min</th>\n",
       "      <td>12.900000</td>\n",
       "      <td>10.600000</td>\n",
       "      <td>14.500000</td>\n",
       "      <td>0.000000</td>\n",
       "      <td>0.000000</td>\n",
       "      <td>14.343000</td>\n",
       "    </tr>\n",
       "    <tr>\n",
       "      <th>25%</th>\n",
       "      <td>19.020000</td>\n",
       "      <td>15.300000</td>\n",
       "      <td>23.800000</td>\n",
       "      <td>0.000000</td>\n",
       "      <td>0.000000</td>\n",
       "      <td>22.008000</td>\n",
       "    </tr>\n",
       "    <tr>\n",
       "      <th>50%</th>\n",
       "      <td>21.380000</td>\n",
       "      <td>17.900000</td>\n",
       "      <td>26.900000</td>\n",
       "      <td>0.000000</td>\n",
       "      <td>0.000000</td>\n",
       "      <td>24.867000</td>\n",
       "    </tr>\n",
       "    <tr>\n",
       "      <th>75%</th>\n",
       "      <td>23.280000</td>\n",
       "      <td>19.600000</td>\n",
       "      <td>29.400000</td>\n",
       "      <td>3.200000</td>\n",
       "      <td>1.000000</td>\n",
       "      <td>28.631000</td>\n",
       "    </tr>\n",
       "    <tr>\n",
       "      <th>max</th>\n",
       "      <td>28.860000</td>\n",
       "      <td>24.500000</td>\n",
       "      <td>36.500000</td>\n",
       "      <td>94.800000</td>\n",
       "      <td>1.000000</td>\n",
       "      <td>37.937000</td>\n",
       "    </tr>\n",
       "  </tbody>\n",
       "</table>\n",
       "</div>"
      ],
      "text/plain": [
       "       Temperatura_Media_C  Temperatura_Minima_C  Temperatura_Maxima_C  \\\n",
       "count           365.000000            365.000000            365.000000   \n",
       "mean             21.226356             17.461370             26.611507   \n",
       "std               3.180108              2.826185              4.317366   \n",
       "min              12.900000             10.600000             14.500000   \n",
       "25%              19.020000             15.300000             23.800000   \n",
       "50%              21.380000             17.900000             26.900000   \n",
       "75%              23.280000             19.600000             29.400000   \n",
       "max              28.860000             24.500000             36.500000   \n",
       "\n",
       "       Precipitacao_mm  Final_de_Semana  Consumo_de_cerveja_litros  \n",
       "count       365.000000       365.000000                 365.000000  \n",
       "mean          5.196712         0.284932                  25.401367  \n",
       "std          12.417844         0.452001                   4.399143  \n",
       "min           0.000000         0.000000                  14.343000  \n",
       "25%           0.000000         0.000000                  22.008000  \n",
       "50%           0.000000         0.000000                  24.867000  \n",
       "75%           3.200000         1.000000                  28.631000  \n",
       "max          94.800000         1.000000                  37.937000  "
      ]
     },
     "execution_count": 1,
     "metadata": {},
     "output_type": "execute_result"
    }
   ],
   "source": [
    "import pandas as pd\n",
    "import numpy as np\n",
    "import matplotlib.pyplot as plt\n",
    "\n",
    "# data split approach\n",
    "from sklearn.model_selection import train_test_split\n",
    "\n",
    "# normalização dos dados\n",
    "from sklearn.preprocessing import Normalizer\n",
    "from sklearn.metrics import mean_absolute_error\n",
    "from sklearn.preprocessing import StandardScaler\n",
    "from sklearn.linear_model import LinearRegression\n",
    "\n",
    "# classifiers\n",
    "from sklearn.tree import DecisionTreeClassifier\n",
    "from sklearn.neural_network import MLPClassifier\n",
    "from sklearn.ensemble import RandomForestClassifier\n",
    "from sklearn.naive_bayes import GaussianNB\n",
    "from sklearn.linear_model import Ridge\n",
    "from sklearn.metrics import r2_score\n",
    "\n",
    "# lendo os dados e deixando 'Data' como index\n",
    "dados = pd.DataFrame.from_dict(pd.read_csv('data/Consumo_cerveja.csv',index_col='Data',parse_dates=True))\n",
    "dados.columns = dados.columns.str.replace(' ','_')\n",
    "dados.columns = dados.columns.str.replace('[)(]' ,'')\n",
    "# dropando linhas NaN\n",
    "dados.dropna(inplace=True)\n",
    "# trocando virgula por ponto em todas as colunas\n",
    "dados['Temperatura_Media_C'] = pd.to_numeric(dados['Temperatura_Media_C'].str.replace(',', '.'))\n",
    "dados['Temperatura_Minima_C'] = pd.to_numeric(dados['Temperatura_Minima_C'].str.replace(',', '.'))\n",
    "dados['Temperatura_Maxima_C'] = pd.to_numeric(dados['Temperatura_Maxima_C'].str.replace(',', '.'))\n",
    "dados['Precipitacao_mm'] = pd.to_numeric(dados['Precipitacao_mm'].str.replace(',', '.'))\n",
    "dados['Final_de_Semana'] = dados['Final_de_Semana'].astype(int)\n",
    "# mostrando os 5 primeiros\n",
    "display(dados.columns)\n",
    "display(dados.head())\n",
    "dados.describe()"
   ]
  },
  {
   "cell_type": "code",
   "execution_count": 2,
   "metadata": {},
   "outputs": [
    {
     "data": {
      "text/plain": [
       "Text(0, 0.5, 'Consumo de Cerveja (litros)')"
      ]
     },
     "execution_count": 2,
     "metadata": {},
     "output_type": "execute_result"
    },
    {
     "data": {
      "image/png": "[encoded data removed]",
      "text/plain": [
       "<Figure size 864x432 with 1 Axes>"
      ]
     },
     "metadata": {
      "needs_background": "light"
     },
     "output_type": "display_data"
    }
   ],
   "source": [
    "# verificando pontos\n",
    "plt.figure(figsize=(12,6))\n",
    "plt.title('Temperatura máxima X Consumo de cerveja')\n",
    "plt.scatter(dados['Temperatura_Maxima_C'],dados['Consumo_de_cerveja_litros'], alpha=0.4)\n",
    "plt.xlabel('Temperatura Máxima (C)')\n",
    "plt.ylabel('Consumo de Cerveja (litros)')"
   ]
  },
  {
   "cell_type": "code",
   "execution_count": 3,
   "metadata": {},
   "outputs": [],
   "source": [
    "# numero indice colunas\n",
    "ind = np.arange(1)\n",
    "width = 0.35\n",
    "\n",
    "# pegando apenas dados do final de semana\n",
    "dados_means_fds = dados[dados['Final_de_Semana'] == 1]\n",
    "\n",
    "# média consumo final de semana - fds\n",
    "consumo_means_fds = dados_means_fds['Consumo_de_cerveja_litros'].mean()\n",
    "\n",
    "# desvio padrao consumo final de semana - fds\n",
    "consumo_std_fds = dados_means_fds['Consumo_de_cerveja_litros'].std()\n",
    "\n",
    "# pegando apenas dados do meio de semana - mds\n",
    "dados_means_mds = dados[dados['Final_de_Semana'] == 0]\n",
    "\n",
    "# media consumo meio de semana - mds\n",
    "consumo_means_mds = dados_means_mds['Consumo_de_cerveja_litros'].mean()\n",
    "\n",
    "# desvio meio de semana - mds\n",
    "consumo_std_mds = dados_means_mds['Consumo_de_cerveja_litros'].std()"
   ]
  },
  {
   "cell_type": "code",
   "execution_count": 4,
   "metadata": {},
   "outputs": [
    {
     "data": {
      "text/plain": [
       "<matplotlib.legend.Legend at 0x7fca5b88e940>"
      ]
     },
     "execution_count": 4,
     "metadata": {},
     "output_type": "execute_result"
    },
    {
     "data": {
      "image/png": "[encoded data removed]",
      "text/plain": [
       "<Figure size 864x432 with 1 Axes>"
      ]
     },
     "metadata": {
      "needs_background": "light"
     },
     "output_type": "display_data"
    }
   ],
   "source": [
    "# grafico analisando consumo médio\n",
    "fig, ax = plt.subplots(figsize=(12, 6))\n",
    "rects1 = ax.bar(ind - width/2, consumo_means_fds, width, yerr=consumo_std_fds,\n",
    "                color='red', label='Fim de semana')\n",
    "rects2 = ax.bar(ind + width/2, consumo_means_mds, width, yerr=consumo_std_mds,\n",
    "                color='darkgrey', label='Meio de semana')\n",
    "\n",
    "# Rótulos e títulos\n",
    "ax.set_ylabel('Consumo de Cerveja (milhares de litros)')\n",
    "ax.set_title('Consumo médio: Meio de semana X Fim de Semana')\n",
    "ax.set_xticks(ind)\n",
    "ax.set_xticklabels((' '))\n",
    "ax.legend()"
   ]
  },
  {
   "cell_type": "code",
   "execution_count": 5,
   "metadata": {},
   "outputs": [],
   "source": [
    "X = np.array(dados[['Temperatura_Maxima_C','Temperatura_Media_C','Temperatura_Minima_C','Final_de_Semana']])\n",
    "y = np.array(dados['Consumo_de_cerveja_litros'])"
   ]
  },
  {
   "cell_type": "code",
   "execution_count": 11,
   "metadata": {},
   "outputs": [
    {
     "data": {
      "text/plain": [
       "array([[0.72926691, 0.52996725, 0.43206567, 0.02497489],\n",
       "       [0.72339105, 0.55789583, 0.40593167, 0.02602126],\n",
       "       [0.65624202, 0.55622   , 0.50986834, 0.        ],\n",
       "       ...,\n",
       "       [0.65839373, 0.55880476, 0.50347756, 0.0276636 ],\n",
       "       [0.68640016, 0.54708132, 0.47912091, 0.        ],\n",
       "       [0.68247871, 0.55494481, 0.47566698, 0.        ]])"
      ]
     },
     "metadata": {},
     "output_type": "display_data"
    }
   ],
   "source": [
    "X_train,X_test,y_train,y_test = train_test_split(X,y,test_size=0.3)\n",
    "\n",
    "# normaliza os dados de treino\n",
    "scaler = Normalizer().fit(X_train)\n",
    "dataset = scaler.transform(X_train)\n",
    "\n",
    "display(dataset)\n",
    "\n",
    "# criando modelo\n",
    "#model = Ridge(alpha=1)\n",
    "model = GaussianNB()\n",
    "\n",
    "# treinando modelo\n",
    "#model.fit(X_train,y_train)\n",
    "\n",
    "# realizando as predições\n",
    "#y_pred = model.predict(X_test)\n",
    "\n",
    "#print(\"Score ->\",r2_score(y_test, y_pred))\n",
    "\n",
    "# printando os scores e o MAE\n",
    "#print(\"Acurácia treino: \",model.score(X_train,y_train))\n",
    "#print(\"Acurácia teste: \",model.score(X_test,y_test))\n",
    "#print(\"Diferença média absoluta:\",mean_absolute_error(y_test,y_pred))"
   ]
  },
  {
   "cell_type": "code",
   "execution_count": null,
   "metadata": {},
   "outputs": [],
   "source": [
    "# Printando consumo real vs o consumo predito\n",
    "for i,j in zip(y_test,y_pred):\n",
    "    print(\"Consumo real: {:.2f}\".format(i))\n",
    "    print(\"Consumo predito: {:.2f}\".format(j))\n",
    "    print()"
   ]
  },
  {
   "cell_type": "code",
   "execution_count": null,
   "metadata": {},
   "outputs": [],
   "source": []
  }
 ],
 "metadata": {
  "kernelspec": {
   "display_name": "Python 3",
   "language": "python",
   "name": "python3"
  },
  "language_info": {
   "codemirror_mode": {
    "name": "ipython",
    "version": 3
   },
   "file_extension": ".py",
   "mimetype": "text/x-python",
   "name": "python",
   "nbconvert_exporter": "python",
   "pygments_lexer": "ipython3",
   "version": "3.7.1"
  }
 },
 "nbformat": 4,
 "nbformat_minor": 2
}
