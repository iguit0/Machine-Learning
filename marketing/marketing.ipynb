{
 "cells": [
  {
   "cell_type": "code",
   "execution_count": 20,
   "metadata": {},
   "outputs": [],
   "source": [
    "import pandas as pd\n",
    "import numpy as np\n",
    "import matplotlib.pyplot as plt\n",
    "\n",
    "from sklearn.preprocessing import LabelEncoder, OneHotEncoder\n",
    "from sklearn.cluster import KMeans\n",
    "from sklearn.metrics import adjusted_rand_score, jaccard_similarity_score\n",
    "\n",
    "# importando dados\n",
    "dataset = pd.read_csv(\"data/dados.csv\")\n",
    "y_true = pd.read_csv('data/train.csv',sep=';')"
   ]
  },
  {
   "cell_type": "code",
   "execution_count": 2,
   "metadata": {},
   "outputs": [
    {
     "data": {
      "text/html": [
       "<div>\n",
       "<style scoped>\n",
       "    .dataframe tbody tr th:only-of-type {\n",
       "        vertical-align: middle;\n",
       "    }\n",
       "\n",
       "    .dataframe tbody tr th {\n",
       "        vertical-align: top;\n",
       "    }\n",
       "\n",
       "    .dataframe thead th {\n",
       "        text-align: right;\n",
       "    }\n",
       "</style>\n",
       "<table border=\"1\" class=\"dataframe\">\n",
       "  <thead>\n",
       "    <tr style=\"text-align: right;\">\n",
       "      <th></th>\n",
       "      <th>age</th>\n",
       "      <th>job</th>\n",
       "      <th>marital</th>\n",
       "      <th>education</th>\n",
       "      <th>default</th>\n",
       "      <th>housing</th>\n",
       "      <th>loan</th>\n",
       "      <th>contact</th>\n",
       "      <th>month</th>\n",
       "      <th>day_of_week</th>\n",
       "      <th>campaign</th>\n",
       "      <th>pdays</th>\n",
       "      <th>previous</th>\n",
       "      <th>poutcome</th>\n",
       "    </tr>\n",
       "  </thead>\n",
       "  <tbody>\n",
       "    <tr>\n",
       "      <th>0</th>\n",
       "      <td>30</td>\n",
       "      <td>1</td>\n",
       "      <td>1</td>\n",
       "      <td>2</td>\n",
       "      <td>0</td>\n",
       "      <td>2</td>\n",
       "      <td>0</td>\n",
       "      <td>0</td>\n",
       "      <td>6</td>\n",
       "      <td>0</td>\n",
       "      <td>2</td>\n",
       "      <td>999</td>\n",
       "      <td>0</td>\n",
       "      <td>1</td>\n",
       "    </tr>\n",
       "    <tr>\n",
       "      <th>1</th>\n",
       "      <td>39</td>\n",
       "      <td>7</td>\n",
       "      <td>2</td>\n",
       "      <td>3</td>\n",
       "      <td>0</td>\n",
       "      <td>0</td>\n",
       "      <td>0</td>\n",
       "      <td>1</td>\n",
       "      <td>6</td>\n",
       "      <td>0</td>\n",
       "      <td>4</td>\n",
       "      <td>999</td>\n",
       "      <td>0</td>\n",
       "      <td>1</td>\n",
       "    </tr>\n",
       "    <tr>\n",
       "      <th>2</th>\n",
       "      <td>25</td>\n",
       "      <td>7</td>\n",
       "      <td>1</td>\n",
       "      <td>3</td>\n",
       "      <td>0</td>\n",
       "      <td>2</td>\n",
       "      <td>0</td>\n",
       "      <td>1</td>\n",
       "      <td>4</td>\n",
       "      <td>4</td>\n",
       "      <td>1</td>\n",
       "      <td>999</td>\n",
       "      <td>0</td>\n",
       "      <td>1</td>\n",
       "    </tr>\n",
       "    <tr>\n",
       "      <th>3</th>\n",
       "      <td>38</td>\n",
       "      <td>7</td>\n",
       "      <td>1</td>\n",
       "      <td>2</td>\n",
       "      <td>0</td>\n",
       "      <td>1</td>\n",
       "      <td>1</td>\n",
       "      <td>1</td>\n",
       "      <td>4</td>\n",
       "      <td>0</td>\n",
       "      <td>3</td>\n",
       "      <td>999</td>\n",
       "      <td>0</td>\n",
       "      <td>1</td>\n",
       "    </tr>\n",
       "    <tr>\n",
       "      <th>4</th>\n",
       "      <td>47</td>\n",
       "      <td>0</td>\n",
       "      <td>1</td>\n",
       "      <td>5</td>\n",
       "      <td>0</td>\n",
       "      <td>2</td>\n",
       "      <td>0</td>\n",
       "      <td>0</td>\n",
       "      <td>7</td>\n",
       "      <td>1</td>\n",
       "      <td>1</td>\n",
       "      <td>999</td>\n",
       "      <td>0</td>\n",
       "      <td>1</td>\n",
       "    </tr>\n",
       "  </tbody>\n",
       "</table>\n",
       "</div>"
      ],
      "text/plain": [
       "   age  job  marital  education  default  housing  loan  contact  month  \\\n",
       "0   30    1        1          2        0        2     0        0      6   \n",
       "1   39    7        2          3        0        0     0        1      6   \n",
       "2   25    7        1          3        0        2     0        1      4   \n",
       "3   38    7        1          2        0        1     1        1      4   \n",
       "4   47    0        1          5        0        2     0        0      7   \n",
       "\n",
       "   day_of_week  campaign  pdays  previous  poutcome  \n",
       "0            0         2    999         0         1  \n",
       "1            0         4    999         0         1  \n",
       "2            4         1    999         0         1  \n",
       "3            0         3    999         0         1  \n",
       "4            1         1    999         0         1  "
      ]
     },
     "metadata": {},
     "output_type": "display_data"
    }
   ],
   "source": [
    "enc = LabelEncoder()\n",
    "hot = OneHotEncoder(sparse=False)\n",
    "#display(dataset.head())\n",
    "dataset.poutcome = enc.fit_transform(dataset['poutcome'])\n",
    "dataset.day_of_week = enc.fit_transform(dataset['day_of_week'])\n",
    "dataset.month = enc.fit_transform(dataset['month'])\n",
    "dataset.contact = enc.fit_transform(dataset['contact'])\n",
    "dataset.housing = enc.fit_transform(dataset['housing'])\n",
    "dataset.loan = enc.fit_transform(dataset['loan'])\n",
    "dataset.marital = enc.fit_transform(dataset['marital'])\n",
    "dataset.default = enc.fit_transform(dataset['default'])\n",
    "dataset.education = enc.fit_transform(dataset['education'])\n",
    "dataset.job = enc.fit_transform(dataset['job'])\n",
    "del dataset['emp.var.rate']\n",
    "del dataset['cons.price.idx']\n",
    "del dataset['cons.conf.idx']\n",
    "del dataset['euribor3m']\n",
    "del dataset['nr.employed']\n",
    "del dataset['duration']\n",
    "#del dataset['age']\n",
    "#del dataset['job']\n",
    "#del dataset['education']\n",
    "#del dataset['month']\n",
    "#del dataset['day_of_week']\n",
    "#del dataset['contact']\n",
    "\n",
    "#del_columns = ['duration','default']\n",
    "#dataset = dataset.drop(del_columns, axis=1)\n",
    "#print(dataset.columns)\n",
    "\n",
    "onehot_encoder = OneHotEncoder(sparse=False)\n",
    "\n",
    "display(dataset.head())"
   ]
  },
  {
   "cell_type": "code",
   "execution_count": 3,
   "metadata": {},
   "outputs": [
    {
     "data": {
      "text/plain": [
       "array([0, 0, 0, ..., 0, 0, 0], dtype=int32)"
      ]
     },
     "metadata": {},
     "output_type": "display_data"
    },
    {
     "name": "stdout",
     "output_type": "stream",
     "text": [
      "Tamanho ->  2999\n"
     ]
    },
    {
     "data": {
      "image/png": "[encoded data removed]",
      "text/plain": [
       "<Figure size 432x288 with 1 Axes>"
      ]
     },
     "metadata": {
      "needs_background": "light"
     },
     "output_type": "display_data"
    }
   ],
   "source": [
    "# agrupamento  de dados pelo KMeans\n",
    "kmeans = KMeans(n_clusters=2, random_state=0)\n",
    "model = kmeans.fit(dataset)\n",
    "display(model.labels_)\n",
    "plt.hist(model.labels_)\n",
    "print('Tamanho -> ',len(model.labels_))"
   ]
  },
  {
   "cell_type": "code",
   "execution_count": 4,
   "metadata": {},
   "outputs": [],
   "source": [
    "# gerar o csv\n",
    "#previsao = pd.DataFrame()\n",
    "#previsao[\"Predicted\"] = model.labels_\n",
    "#previsao.to_csv('prediction.csv',index=True,index_label=\"Id\")"
   ]
  },
  {
   "cell_type": "code",
   "execution_count": 5,
   "metadata": {},
   "outputs": [],
   "source": [
    "#new = pd.read_csv('prediction.csv')\n",
    "#display(new)\n",
    "#display(new.shape)"
   ]
  },
  {
   "cell_type": "code",
   "execution_count": 6,
   "metadata": {},
   "outputs": [
    {
     "name": "stdout",
     "output_type": "stream",
     "text": [
      "Score ->  0.8999666555518506\n"
     ]
    }
   ],
   "source": [
    "#print(dataset.columns,'\\n\\n')\n",
    "y_true.y = enc.fit_transform(y_true['y'])\n",
    "print('Score -> ',jaccard_similarity_score(y_true.y,model.labels_))\n",
    "#print('Score -> ',adjusted_rand_score(y_true.y,model.labels_))"
   ]
  },
  {
   "cell_type": "code",
   "execution_count": 7,
   "metadata": {},
   "outputs": [],
   "source": [
    "# gerar o csv\n",
    "#previsao = pd.DataFrame()\n",
    "#previsao[\"Predicted\"] = model.labels_\n",
    "#previsao.to_csv('prediction.csv',index=True,index_label=\"Id\")"
   ]
  },
  {
   "cell_type": "code",
   "execution_count": 8,
   "metadata": {},
   "outputs": [],
   "source": [
    "#new = pd.read_csv('prediction.csv')\n",
    "#display(new)\n",
    "#display(new.shape)"
   ]
  },
  {
   "cell_type": "code",
   "execution_count": 9,
   "metadata": {},
   "outputs": [],
   "source": [
    "#K means Clustering \n",
    "def doKmeans(X, nclust=2):\n",
    "    model = KMeans(nclust)\n",
    "    model.fit(X)\n",
    "    clust_labels = model.predict(X)\n",
    "    cent = model.cluster_centers_\n",
    "    return (clust_labels, cent)\n",
    "\n",
    "clust_labels, cent = doKmeans(dataset, 2)\n",
    "kmeans_ = pd.DataFrame(clust_labels)\n",
    "dataset.insert((dataset.shape[1]),'kmeans',kmeans)"
   ]
  },
  {
   "cell_type": "code",
   "execution_count": 19,
   "metadata": {},
   "outputs": [
    {
     "name": "stdout",
     "output_type": "stream",
     "text": [
      "Index(['age', 'job', 'marital', 'education', 'default', 'housing', 'loan',\n",
      "       'contact', 'month', 'day_of_week', 'campaign', 'pdays', 'previous',\n",
      "       'poutcome', 'kmeans'],\n",
      "      dtype='object')\n"
     ]
    },
    {
     "data": {
      "text/plain": [
       "<matplotlib.colorbar.Colorbar at 0x7f01a2997400>"
      ]
     },
     "execution_count": 19,
     "metadata": {},
     "output_type": "execute_result"
    },
    {
     "data": {
      "image/png": "[encoded data removed]",
      "text/plain": [
       "<Figure size 864x432 with 2 Axes>"
      ]
     },
     "metadata": {
      "needs_background": "light"
     },
     "output_type": "display_data"
    }
   ],
   "source": [
    "#Plot the clusters obtained using k means\n",
    "print(dataset.columns)\n",
    "fig = plt.figure(figsize=(12,6))\n",
    "ax = fig.add_subplot(111)\n",
    "scatter = ax.scatter(dataset['day_of_week'],dataset['age'],c=kmeans_[0],s=50)\n",
    "ax.set_title('K-Means Clustering')\n",
    "ax.set_xlabel('day of week')\n",
    "ax.set_ylabel('age')\n",
    "plt.colorbar(scatter)"
   ]
  },
  {
   "cell_type": "code",
   "execution_count": null,
   "metadata": {},
   "outputs": [],
   "source": []
  }
 ],
 "metadata": {
  "kernelspec": {
   "display_name": "Python 3",
   "language": "python",
   "name": "python3"
  },
  "language_info": {
   "codemirror_mode": {
    "name": "ipython",
    "version": 3
   },
   "file_extension": ".py",
   "mimetype": "text/x-python",
   "name": "python",
   "nbconvert_exporter": "python",
   "pygments_lexer": "ipython3",
   "version": "3.7.1"
  }
 },
 "nbformat": 4,
 "nbformat_minor": 2
}
