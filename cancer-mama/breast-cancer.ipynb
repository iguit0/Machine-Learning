{
 "cells": [
  {
   "cell_type": "code",
   "execution_count": 1,
   "metadata": {},
   "outputs": [
    {
     "name": "stdout",
     "output_type": "stream",
     "text": [
      "['malignant' 'benign']\n",
      "['mean radius' 'mean texture' 'mean perimeter' 'mean area'\n",
      " 'mean smoothness' 'mean compactness' 'mean concavity'\n",
      " 'mean concave points' 'mean symmetry' 'mean fractal dimension'\n",
      " 'radius error' 'texture error' 'perimeter error' 'area error'\n",
      " 'smoothness error' 'compactness error' 'concavity error'\n",
      " 'concave points error' 'symmetry error' 'fractal dimension error'\n",
      " 'worst radius' 'worst texture' 'worst perimeter' 'worst area'\n",
      " 'worst smoothness' 'worst compactness' 'worst concavity'\n",
      " 'worst concave points' 'worst symmetry' 'worst fractal dimension']\n"
     ]
    }
   ],
   "source": [
    "# base de dados\n",
    "from sklearn.datasets import load_breast_cancer\n",
    "\n",
    "# divisao treino teste\n",
    "from sklearn.model_selection import train_test_split\n",
    "\n",
    "# classificadores\n",
    "from sklearn.tree import DecisionTreeClassifier\n",
    "from sklearn.neural_network import MLPClassifier\n",
    "from sklearn.ensemble import RandomForestClassifier\n",
    "from sklearn.naive_bayes import GaussianNB\n",
    "\n",
    "############ training ############\n",
    "def fitModel(algorithm, dataset):\n",
    "    #X_train, X_test, y_train, y_test = train_test_split(dataset['data'], dataset['target'], random_state=0)\n",
    "    if algorithm == \"decision_tree\":\n",
    "        # fit model using decision tree\n",
    "        model = DecisionTreeClassifier(random_state=0)\n",
    "    elif algorithm == \"naive_bayes\":\n",
    "        model = GaussianNB()\n",
    "    elif algorithm == \"random_forest\":\n",
    "        model = RandomForestClassifier(n_estimators=10)\n",
    "    elif algorithm == \"mlp\":\n",
    "        model = MLPClassifier(solver='lbfgs', alpha=0.7, hidden_layer_sizes=(5, 2), random_state=1)\n",
    "    model.fit(train, train_labels)\n",
    "    y = model.predict(train)\n",
    "    print(algorithm, \":\", model.score(test, test_labels))\n",
    "\n",
    "# importando dados\n",
    "data = load_breast_cancer()\n",
    "\n",
    "# Organizar nossos dados\n",
    "label_names = data['target_names']\n",
    "labels = data['target']\n",
    "feature_names = data['feature_names']\n",
    "features = data['data']\n",
    "\n",
    "# Olhando para os nossos dados\n",
    "print(label_names)\n",
    "#print(labels)\n",
    "print(feature_names)\n",
    "#print(features[0])"
   ]
  },
  {
   "cell_type": "code",
   "execution_count": 2,
   "metadata": {},
   "outputs": [
    {
     "name": "stdout",
     "output_type": "stream",
     "text": [
      "decision_tree : 0.9148936170212766\n",
      "naive_bayes : 0.9414893617021277\n",
      "random_forest : 0.9627659574468085\n",
      "mlp : 0.973404255319149\n"
     ]
    }
   ],
   "source": [
    "# Dividir nossos dados\n",
    "train, test, train_labels, test_labels = train_test_split(features,labels,test_size=0.33,random_state=42)\n",
    "\n",
    "## training and testing models\n",
    "fitModel(algorithm=\"decision_tree\", dataset=data)\n",
    "fitModel(algorithm=\"naive_bayes\", dataset=data)\n",
    "fitModel(algorithm=\"random_forest\", dataset=data)\n",
    "fitModel(algorithm=\"mlp\", dataset=data)"
   ]
  },
  {
   "cell_type": "code",
   "execution_count": null,
   "metadata": {},
   "outputs": [],
   "source": []
  }
 ],
 "metadata": {
  "kernelspec": {
   "display_name": "Python 3",
   "language": "python",
   "name": "python3"
  },
  "language_info": {
   "codemirror_mode": {
    "name": "ipython",
    "version": 3
   },
   "file_extension": ".py",
   "mimetype": "text/x-python",
   "name": "python",
   "nbconvert_exporter": "python",
   "pygments_lexer": "ipython3",
   "version": "3.7.1"
  }
 },
 "nbformat": 4,
 "nbformat_minor": 2
}
